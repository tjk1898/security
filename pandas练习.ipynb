{
 "cells": [
  {
   "cell_type": "code",
   "execution_count": 1,
   "id": "8a313cc8",
   "metadata": {},
   "outputs": [],
   "source": [
    "import numpy as np\n",
    "\n",
    "import pandas as pd"
   ]
  },
  {
   "cell_type": "code",
   "execution_count": 2,
   "id": "141bf5f9",
   "metadata": {},
   "outputs": [],
   "source": [
    "df = pd.DataFrame({\"id\":[1,2,3,4,5,6],\n",
    "\n",
    "\"date\":pd.date_range('20130102', periods=6),\n",
    "\n",
    "\"city\":['Beijing ', 'SH', ' guangzhou ', 'Shenzhen', 'shanghai', 'BEIJING '],\n",
    "\n",
    "\"age\":[23,44,54,32,34,32],\n",
    "\n",
    "\"category\":['100-A','100-B','110-A','110-C','210-A','130-F'],\n",
    "\n",
    "\"price\":[1200,np.nan,2133,5433,np.nan,4432]},\n",
    "\n",
    "columns =['id','date','city','category','age','price'])"
   ]
  },
  {
   "cell_type": "code",
   "execution_count": 3,
   "id": "6be73774",
   "metadata": {},
   "outputs": [
    {
     "name": "stdout",
     "output_type": "stream",
     "text": [
      "<class 'pandas.core.frame.DataFrame'>\n",
      "RangeIndex: 6 entries, 0 to 5\n",
      "Data columns (total 6 columns):\n",
      " #   Column    Non-Null Count  Dtype         \n",
      "---  ------    --------------  -----         \n",
      " 0   id        6 non-null      int64         \n",
      " 1   date      6 non-null      datetime64[ns]\n",
      " 2   city      6 non-null      object        \n",
      " 3   category  6 non-null      object        \n",
      " 4   age       6 non-null      int64         \n",
      " 5   price     4 non-null      float64       \n",
      "dtypes: datetime64[ns](1), float64(1), int64(2), object(2)\n",
      "memory usage: 416.0+ bytes\n"
     ]
    }
   ],
   "source": [
    "df.info()"
   ]
  },
  {
   "cell_type": "code",
   "execution_count": 4,
   "id": "cb470eb9",
   "metadata": {},
   "outputs": [
    {
     "data": {
      "text/html": [
       "<div>\n",
       "<style scoped>\n",
       "    .dataframe tbody tr th:only-of-type {\n",
       "        vertical-align: middle;\n",
       "    }\n",
       "\n",
       "    .dataframe tbody tr th {\n",
       "        vertical-align: top;\n",
       "    }\n",
       "\n",
       "    .dataframe thead th {\n",
       "        text-align: right;\n",
       "    }\n",
       "</style>\n",
       "<table border=\"1\" class=\"dataframe\">\n",
       "  <thead>\n",
       "    <tr style=\"text-align: right;\">\n",
       "      <th></th>\n",
       "      <th>id</th>\n",
       "      <th>date</th>\n",
       "      <th>city</th>\n",
       "      <th>category</th>\n",
       "      <th>age</th>\n",
       "      <th>price</th>\n",
       "    </tr>\n",
       "  </thead>\n",
       "  <tbody>\n",
       "    <tr>\n",
       "      <th>0</th>\n",
       "      <td>1</td>\n",
       "      <td>2013-01-02</td>\n",
       "      <td>Beijing</td>\n",
       "      <td>100-A</td>\n",
       "      <td>23</td>\n",
       "      <td>1200.0</td>\n",
       "    </tr>\n",
       "    <tr>\n",
       "      <th>1</th>\n",
       "      <td>2</td>\n",
       "      <td>2013-01-03</td>\n",
       "      <td>SH</td>\n",
       "      <td>100-B</td>\n",
       "      <td>44</td>\n",
       "      <td>NaN</td>\n",
       "    </tr>\n",
       "    <tr>\n",
       "      <th>2</th>\n",
       "      <td>3</td>\n",
       "      <td>2013-01-04</td>\n",
       "      <td>guangzhou</td>\n",
       "      <td>110-A</td>\n",
       "      <td>54</td>\n",
       "      <td>2133.0</td>\n",
       "    </tr>\n",
       "    <tr>\n",
       "      <th>3</th>\n",
       "      <td>4</td>\n",
       "      <td>2013-01-05</td>\n",
       "      <td>Shenzhen</td>\n",
       "      <td>110-C</td>\n",
       "      <td>32</td>\n",
       "      <td>5433.0</td>\n",
       "    </tr>\n",
       "    <tr>\n",
       "      <th>4</th>\n",
       "      <td>5</td>\n",
       "      <td>2013-01-06</td>\n",
       "      <td>shanghai</td>\n",
       "      <td>210-A</td>\n",
       "      <td>34</td>\n",
       "      <td>NaN</td>\n",
       "    </tr>\n",
       "    <tr>\n",
       "      <th>5</th>\n",
       "      <td>6</td>\n",
       "      <td>2013-01-07</td>\n",
       "      <td>BEIJING</td>\n",
       "      <td>130-F</td>\n",
       "      <td>32</td>\n",
       "      <td>4432.0</td>\n",
       "    </tr>\n",
       "  </tbody>\n",
       "</table>\n",
       "</div>"
      ],
      "text/plain": [
       "   id       date         city category  age   price\n",
       "0   1 2013-01-02     Beijing     100-A   23  1200.0\n",
       "1   2 2013-01-03           SH    100-B   44     NaN\n",
       "2   3 2013-01-04   guangzhou     110-A   54  2133.0\n",
       "3   4 2013-01-05     Shenzhen    110-C   32  5433.0\n",
       "4   5 2013-01-06     shanghai    210-A   34     NaN\n",
       "5   6 2013-01-07     BEIJING     130-F   32  4432.0"
      ]
     },
     "execution_count": 4,
     "metadata": {},
     "output_type": "execute_result"
    }
   ],
   "source": [
    "df"
   ]
  },
  {
   "cell_type": "code",
   "execution_count": 5,
   "id": "c1dfd843",
   "metadata": {},
   "outputs": [],
   "source": [
    "df1=pd.DataFrame({\"id\":[1,2,3,4,5,6,7,8],\n",
    "\n",
    "\"gender\":['male','female','male','female','male','female','male','female'],\n",
    "\n",
    "\"pay\":['Y','N','Y','Y','N','Y','N','Y',],\n",
    "\n",
    "\"m-point\":[10,12,20,40,40,40,30,20]})\n"
   ]
  },
  {
   "cell_type": "code",
   "execution_count": 6,
   "id": "ba9e3865",
   "metadata": {},
   "outputs": [],
   "source": [
    "df_inner=pd.merge(df,df1,how='inner') # 匹配合并，交集\n",
    "\n",
    "df_left=pd.merge(df,df1,how='left') #\n",
    "\n",
    "df_right=pd.merge(df,df1,how='right')\n",
    "\n",
    "df_outer=pd.merge(df,df1,how='outer') #并集"
   ]
  },
  {
   "cell_type": "code",
   "execution_count": 7,
   "id": "5fd3e0d2",
   "metadata": {
    "scrolled": true
   },
   "outputs": [
    {
     "data": {
      "text/html": [
       "<div>\n",
       "<style scoped>\n",
       "    .dataframe tbody tr th:only-of-type {\n",
       "        vertical-align: middle;\n",
       "    }\n",
       "\n",
       "    .dataframe tbody tr th {\n",
       "        vertical-align: top;\n",
       "    }\n",
       "\n",
       "    .dataframe thead th {\n",
       "        text-align: right;\n",
       "    }\n",
       "</style>\n",
       "<table border=\"1\" class=\"dataframe\">\n",
       "  <thead>\n",
       "    <tr style=\"text-align: right;\">\n",
       "      <th></th>\n",
       "      <th>id</th>\n",
       "      <th>date</th>\n",
       "      <th>city</th>\n",
       "      <th>category</th>\n",
       "      <th>age</th>\n",
       "      <th>price</th>\n",
       "      <th>gender</th>\n",
       "      <th>pay</th>\n",
       "      <th>m-point</th>\n",
       "    </tr>\n",
       "  </thead>\n",
       "  <tbody>\n",
       "    <tr>\n",
       "      <th>0</th>\n",
       "      <td>1</td>\n",
       "      <td>2013-01-02</td>\n",
       "      <td>Beijing</td>\n",
       "      <td>100-A</td>\n",
       "      <td>23</td>\n",
       "      <td>1200.0</td>\n",
       "      <td>male</td>\n",
       "      <td>Y</td>\n",
       "      <td>10</td>\n",
       "    </tr>\n",
       "    <tr>\n",
       "      <th>1</th>\n",
       "      <td>2</td>\n",
       "      <td>2013-01-03</td>\n",
       "      <td>SH</td>\n",
       "      <td>100-B</td>\n",
       "      <td>44</td>\n",
       "      <td>NaN</td>\n",
       "      <td>female</td>\n",
       "      <td>N</td>\n",
       "      <td>12</td>\n",
       "    </tr>\n",
       "    <tr>\n",
       "      <th>2</th>\n",
       "      <td>3</td>\n",
       "      <td>2013-01-04</td>\n",
       "      <td>guangzhou</td>\n",
       "      <td>110-A</td>\n",
       "      <td>54</td>\n",
       "      <td>2133.0</td>\n",
       "      <td>male</td>\n",
       "      <td>Y</td>\n",
       "      <td>20</td>\n",
       "    </tr>\n",
       "    <tr>\n",
       "      <th>3</th>\n",
       "      <td>4</td>\n",
       "      <td>2013-01-05</td>\n",
       "      <td>Shenzhen</td>\n",
       "      <td>110-C</td>\n",
       "      <td>32</td>\n",
       "      <td>5433.0</td>\n",
       "      <td>female</td>\n",
       "      <td>Y</td>\n",
       "      <td>40</td>\n",
       "    </tr>\n",
       "    <tr>\n",
       "      <th>4</th>\n",
       "      <td>5</td>\n",
       "      <td>2013-01-06</td>\n",
       "      <td>shanghai</td>\n",
       "      <td>210-A</td>\n",
       "      <td>34</td>\n",
       "      <td>NaN</td>\n",
       "      <td>male</td>\n",
       "      <td>N</td>\n",
       "      <td>40</td>\n",
       "    </tr>\n",
       "    <tr>\n",
       "      <th>5</th>\n",
       "      <td>6</td>\n",
       "      <td>2013-01-07</td>\n",
       "      <td>BEIJING</td>\n",
       "      <td>130-F</td>\n",
       "      <td>32</td>\n",
       "      <td>4432.0</td>\n",
       "      <td>female</td>\n",
       "      <td>Y</td>\n",
       "      <td>40</td>\n",
       "    </tr>\n",
       "  </tbody>\n",
       "</table>\n",
       "</div>"
      ],
      "text/plain": [
       "   id       date         city category  age   price  gender pay  m-point\n",
       "0   1 2013-01-02     Beijing     100-A   23  1200.0    male   Y       10\n",
       "1   2 2013-01-03           SH    100-B   44     NaN  female   N       12\n",
       "2   3 2013-01-04   guangzhou     110-A   54  2133.0    male   Y       20\n",
       "3   4 2013-01-05     Shenzhen    110-C   32  5433.0  female   Y       40\n",
       "4   5 2013-01-06     shanghai    210-A   34     NaN    male   N       40\n",
       "5   6 2013-01-07     BEIJING     130-F   32  4432.0  female   Y       40"
      ]
     },
     "execution_count": 7,
     "metadata": {},
     "output_type": "execute_result"
    }
   ],
   "source": [
    "df_inner"
   ]
  },
  {
   "cell_type": "code",
   "execution_count": 9,
   "id": "3eeb61ef",
   "metadata": {},
   "outputs": [
    {
     "data": {
      "text/plain": [
       "0.9753247017958027"
      ]
     },
     "execution_count": 9,
     "metadata": {},
     "output_type": "execute_result"
    }
   ],
   "source": [
    "df_inner['price'].corr(df_inner['m-point']) #相关系数在-1到1之间，接近1为正相关，接近-1为负相关，0为不相关"
   ]
  }
 ],
 "metadata": {
  "kernelspec": {
   "display_name": "Python 3 (ipykernel)",
   "language": "python",
   "name": "python3"
  },
  "language_info": {
   "codemirror_mode": {
    "name": "ipython",
    "version": 3
   },
   "file_extension": ".py",
   "mimetype": "text/x-python",
   "name": "python",
   "nbconvert_exporter": "python",
   "pygments_lexer": "ipython3",
   "version": "3.9.12"
  },
  "toc": {
   "base_numbering": 1,
   "nav_menu": {},
   "number_sections": true,
   "sideBar": true,
   "skip_h1_title": false,
   "title_cell": "Table of Contents",
   "title_sidebar": "Contents",
   "toc_cell": false,
   "toc_position": {},
   "toc_section_display": true,
   "toc_window_display": false
  },
  "varInspector": {
   "cols": {
    "lenName": 16,
    "lenType": 16,
    "lenVar": 40
   },
   "kernels_config": {
    "python": {
     "delete_cmd_postfix": "",
     "delete_cmd_prefix": "del ",
     "library": "var_list.py",
     "varRefreshCmd": "print(var_dic_list())"
    },
    "r": {
     "delete_cmd_postfix": ") ",
     "delete_cmd_prefix": "rm(",
     "library": "var_list.r",
     "varRefreshCmd": "cat(var_dic_list()) "
    }
   },
   "types_to_exclude": [
    "module",
    "function",
    "builtin_function_or_method",
    "instance",
    "_Feature"
   ],
   "window_display": false
  }
 },
 "nbformat": 4,
 "nbformat_minor": 5
}
