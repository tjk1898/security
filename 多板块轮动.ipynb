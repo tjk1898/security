{
 "cells": [
  {
   "cell_type": "raw",
   "id": "ce0897fc",
   "metadata": {},
   "source": [
    "背景\n",
    "在4月26日~6月30日之间，这次回调，呈现出了多板块轮动的现象。\n",
    "在板块轮动期间，如果能够抓住板块轮动的周期，会有较好的收益。\n",
    "所以，在各个板块之间，如果上涨势头较为猛烈，我们认为，板块到达了快速上涨周期。应该买入。\n",
    "如果，上涨幅度减缓甚至下跌，则到了下跌周期。应该卖出。\n",
    "假设：\n",
    "1. 大盘上涨期，上涨快速的板块，可以持续上涨。\n",
    "2. 一旦该板块呈现出持平或者下跌趋势，则马上止损。\n",
    "验证：\n",
    "1. 大盘上涨：\n",
    "1.1 怎么判断大盘在上涨周期：\n",
    "a、close在5日均线上，5日均线在10日均线上\n",
    "b、大盘在相对的低位。这个是需要看走势，如果预测错误，能够及时调整。\n",
    "例如：大盘从3.3的3500一直跌到3.16的3000点附近，然后开始"
   ]
  },
  {
   "cell_type": "markdown",
   "id": "5c5123d6",
   "metadata": {},
   "source": [
    "# 上涨预测"
   ]
  },
  {
   "cell_type": "raw",
   "id": "a15913fa",
   "metadata": {},
   "source": [
    "1. 如果在上涨通道中，使用均线多头\n",
    "2. 如果在下跌中，寻找支撑位，在支撑位反弹，并呈现多头趋势，认为上涨\n",
    "突破支撑位，还有持续下跌的可能。\n",
    "3. 上证指数在下跌或者上涨或者不明朗\n",
    "4. 行业指数在下跌或者上涨或者不明朗\n",
    "总结：\n",
    "1. 均线\n",
    "2. 支撑位和阻力位\n",
    "3. 大盘和行业共振"
   ]
  },
  {
   "cell_type": "code",
   "execution_count": null,
   "id": "6ff95f58",
   "metadata": {},
   "outputs": [],
   "source": []
  }
 ],
 "metadata": {
  "kernelspec": {
   "display_name": "Python 3 (ipykernel)",
   "language": "python",
   "name": "python3"
  },
  "language_info": {
   "codemirror_mode": {
    "name": "ipython",
    "version": 3
   },
   "file_extension": ".py",
   "mimetype": "text/x-python",
   "name": "python",
   "nbconvert_exporter": "python",
   "pygments_lexer": "ipython3",
   "version": "3.9.12"
  },
  "toc": {
   "base_numbering": 1,
   "nav_menu": {},
   "number_sections": true,
   "sideBar": true,
   "skip_h1_title": false,
   "title_cell": "Table of Contents",
   "title_sidebar": "Contents",
   "toc_cell": false,
   "toc_position": {},
   "toc_section_display": true,
   "toc_window_display": false
  },
  "varInspector": {
   "cols": {
    "lenName": 16,
    "lenType": 16,
    "lenVar": 40
   },
   "kernels_config": {
    "python": {
     "delete_cmd_postfix": "",
     "delete_cmd_prefix": "del ",
     "library": "var_list.py",
     "varRefreshCmd": "print(var_dic_list())"
    },
    "r": {
     "delete_cmd_postfix": ") ",
     "delete_cmd_prefix": "rm(",
     "library": "var_list.r",
     "varRefreshCmd": "cat(var_dic_list()) "
    }
   },
   "types_to_exclude": [
    "module",
    "function",
    "builtin_function_or_method",
    "instance",
    "_Feature"
   ],
   "window_display": false
  }
 },
 "nbformat": 4,
 "nbformat_minor": 5
}
