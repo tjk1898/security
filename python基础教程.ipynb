{
 "cells": [
  {
   "cell_type": "markdown",
   "id": "30af0a8c",
   "metadata": {},
   "source": [
    "# python 基础语法"
   ]
  },
  {
   "cell_type": "markdown",
   "id": "ddcf71d0",
   "metadata": {},
   "source": [
    "## 注释 "
   ]
  },
  {
   "cell_type": "code",
   "execution_count": 1,
   "id": "4e1da586",
   "metadata": {},
   "outputs": [
    {
     "name": "stdout",
     "output_type": "stream",
     "text": [
      "这里是注释\n"
     ]
    }
   ],
   "source": [
    "# 单行注释\n",
    "'''\n",
    "多行注释\n",
    "'''\n",
    "\"\"\"\n",
    "多行注释\n",
    "\"\"\"\n",
    "print(\"这里是注释\")"
   ]
  },
  {
   "cell_type": "markdown",
   "id": "3a36b75a",
   "metadata": {},
   "source": [
    "## 多行语句 "
   ]
  },
  {
   "cell_type": "code",
   "execution_count": 3,
   "id": "5c747d64",
   "metadata": {},
   "outputs": [
    {
     "name": "stdout",
     "output_type": "stream",
     "text": [
      "6\n"
     ]
    }
   ],
   "source": [
    "total = 1 + \\\n",
    "        2 + \\\n",
    "        3\n",
    "print(total)"
   ]
  },
  {
   "cell_type": "markdown",
   "id": "a6b0ac70",
   "metadata": {},
   "source": [
    "## 字符串"
   ]
  },
  {
   "cell_type": "code",
   "execution_count": 8,
   "id": "6c32836c",
   "metadata": {},
   "outputs": [
    {
     "name": "stdout",
     "output_type": "stream",
     "text": [
      "串\n",
      "这是一个句子。这是一个句子。\n",
      "是个落\n",
      "以\n"
     ]
    }
   ],
   "source": [
    "word = '字符串'\n",
    "sentence = \"这是一个句子。\"\n",
    "paragraph = \"\"\"这是一个段落，\n",
    "可以由多行组成\"\"\"\n",
    "print(word[2:])\n",
    "print(sentence * 2)       # 输出字符串两次\n",
    "print(paragraph[1:10:2])  # 输出从第二个开始到第五个且每隔一个的字符（步长为2）"
   ]
  },
  {
   "cell_type": "markdown",
   "id": "ac328f88",
   "metadata": {},
   "source": [
    "## 同一行显示多条语句"
   ]
  },
  {
   "cell_type": "code",
   "execution_count": 9,
   "id": "1511330e",
   "metadata": {},
   "outputs": [
    {
     "name": "stdout",
     "output_type": "stream",
     "text": [
      "runoob\n"
     ]
    },
    {
     "data": {
      "text/plain": [
       "7"
      ]
     },
     "execution_count": 9,
     "metadata": {},
     "output_type": "execute_result"
    }
   ],
   "source": [
    "import sys; x = 'runoob'; sys.stdout.write(x + '\\n')"
   ]
  },
  {
   "cell_type": "markdown",
   "id": "8f8b20dc",
   "metadata": {},
   "source": [
    "## import 与 from...import\n",
    "\n",
    "将整个模块(somemodule)导入，格式为： import somemodule\n",
    "\n",
    "从某个模块中导入某个函数,格式为： from somemodule import somefunction\n",
    "\n",
    "从某个模块中导入多个函数,格式为： from somemodule import firstfunc, secondfunc, thirdfunc\n",
    "\n",
    "将某个模块中的全部函数导入，格式为： from somemodule import *"
   ]
  },
  {
   "cell_type": "code",
   "execution_count": null,
   "id": "0dd42f0e",
   "metadata": {},
   "outputs": [],
   "source": [
    "import sys\n",
    "print('================Python import mode==========================')\n",
    "print ('命令行参数为:')\n",
    "for i in sys.argv:\n",
    "    print (i)\n",
    "print ('\\n python 路径为',sys.path)"
   ]
  },
  {
   "cell_type": "code",
   "execution_count": null,
   "id": "f00ef1c6",
   "metadata": {},
   "outputs": [],
   "source": [
    "from sys import argv,path  #  导入特定的成员\n",
    " \n",
    "print('================python from import===================================')\n",
    "print('path:',path) # 因为已经导入path成员，所以此处引用时不需要加sys.path"
   ]
  },
  {
   "cell_type": "markdown",
   "id": "d2d371f2",
   "metadata": {},
   "source": [
    "## Python3 基本数据类型\n",
    "不可变数据（3 个）：Number（数字）、String（字符串）、Tuple（元组）；\n",
    "可变数据（3 个）：List（列表）、Dictionary（字典）、Set（集合）。\n",
    "### Number（数字）\n",
    " int、float、bool、complex（复数）。\n",
    " \n",
    "type()不会认为子类是一种父类类型。\n",
    "isinstance()会认为子类是一种父类类型。\n",
    "\n",
    "使用del语句删除一些对象引用。"
   ]
  },
  {
   "cell_type": "code",
   "execution_count": 11,
   "id": "9e2688b4",
   "metadata": {},
   "outputs": [
    {
     "name": "stdout",
     "output_type": "stream",
     "text": [
      "<class 'int'> <class 'float'> <class 'bool'> <class 'complex'>\n"
     ]
    },
    {
     "data": {
      "text/plain": [
       "True"
      ]
     },
     "execution_count": 11,
     "metadata": {},
     "output_type": "execute_result"
    }
   ],
   "source": [
    "a, b, c, d = 20, 5.5, True, 4+3j\n",
    "print(type(a), type(b), type(c), type(d))\n",
    "\n",
    "isinstance(a, int)"
   ]
  },
  {
   "cell_type": "code",
   "execution_count": 15,
   "id": "fa61528d",
   "metadata": {},
   "outputs": [
    {
     "name": "stdout",
     "output_type": "stream",
     "text": [
      "True\n",
      "True\n",
      "True False\n"
     ]
    }
   ],
   "source": [
    "class A:\n",
    "    pass\n",
    "class B(A):\n",
    "    pass\n",
    "\n",
    "print(isinstance(A(),A))\n",
    "print(isinstance(B(),A))\n",
    "print(type(B())==B,type(B())==A)\n"
   ]
  },
  {
   "cell_type": "markdown",
   "id": "81d2d564",
   "metadata": {},
   "source": [
    "### 数值运算\n",
    "\n",
    "1. Python可以同时为多个变量赋值，如a, b = 1, 2。\n",
    "2. 一个变量可以通过赋值指向不同类型的对象。\n",
    "3. 数值的除法包含两个运算符：/ 返回一个浮点数，// 返回一个整数。\n",
    "4. 在混合计算时，Python会把整型转换成为浮点数。"
   ]
  },
  {
   "cell_type": "code",
   "execution_count": 16,
   "id": "e172b603",
   "metadata": {},
   "outputs": [
    {
     "name": "stdout",
     "output_type": "stream",
     "text": [
      "9\n",
      "2.3\n",
      "21\n",
      "0.5\n",
      "0\n",
      "2\n",
      "32\n"
     ]
    }
   ],
   "source": [
    "print(5 + 4  )# 加法\n",
    "print(4.3 - 2) # 减法\n",
    "print(3 * 7  )# 乘法\n",
    "print(2 / 4  )# 除法，得到一个浮点数\n",
    "print(2 // 4 )# 除法，得到一个整数\n",
    "print(17 % 3 )# 取余\n",
    "print(2 ** 5 )# 乘方print()"
   ]
  },
  {
   "cell_type": "markdown",
   "id": "3323e614",
   "metadata": {},
   "source": [
    "### String（字符串）"
   ]
  },
  {
   "cell_type": "code",
   "execution_count": 17,
   "id": "3d96d1af",
   "metadata": {},
   "outputs": [
    {
     "name": "stdout",
     "output_type": "stream",
     "text": [
      "Runoob\n",
      "Runoo\n",
      "R\n",
      "noo\n",
      "noob\n",
      "RunoobRunoob\n",
      "RunoobTEST\n"
     ]
    }
   ],
   "source": [
    "str = 'Runoob'\n",
    "\n",
    "print (str)          # 输出字符串\n",
    "print (str[0:-1])    # 输出第一个到倒数第二个的所有字符\n",
    "print (str[0])       # 输出字符串第一个字符\n",
    "print (str[2:5])     # 输出从第三个开始到第五个的字符\n",
    "print (str[2:])      # 输出从第三个开始的后的所有字符\n",
    "print (str * 2)      # 输出字符串两次，也可以写成 print (2 * str)\n",
    "print (str + \"TEST\") # 连接字符串"
   ]
  },
  {
   "cell_type": "code",
   "execution_count": 18,
   "id": "071d17b4",
   "metadata": {},
   "outputs": [
    {
     "name": "stdout",
     "output_type": "stream",
     "text": [
      "Ru\n",
      "oob\n",
      "Ru\\noob\n"
     ]
    }
   ],
   "source": [
    "print('Ru\\noob')\n",
    "print(r'Ru\\noob')"
   ]
  },
  {
   "cell_type": "markdown",
   "id": "57cb4810",
   "metadata": {},
   "source": [
    "### List（列表）"
   ]
  },
  {
   "cell_type": "code",
   "execution_count": 20,
   "id": "a80b3f8d",
   "metadata": {},
   "outputs": [
    {
     "name": "stdout",
     "output_type": "stream",
     "text": [
      "['abcd', 786, 2.23, 'runoob', 70.2]\n",
      "abcd\n",
      "[786, 2.23]\n",
      "[2.23, 'runoob', 70.2]\n",
      "[123, 'runoob', 123, 'runoob']\n",
      "['abcd', 786, 2.23, 'runoob', 70.2, 123, 'runoob']\n"
     ]
    }
   ],
   "source": [
    "list = [ 'abcd', 786 , 2.23, 'runoob', 70.2 ]\n",
    "tinylist = [123, 'runoob']\n",
    "\n",
    "print (list)            # 输出完整列表\n",
    "print (list[0])         # 输出列表第一个元素\n",
    "print (list[1:3])       # 从第二个开始输出到第三个元素\n",
    "print (list[2:])        # 输出从第三个元素开始的所有元素\n",
    "print (tinylist * 2)    # 输出两次列表\n",
    "print (list + tinylist) # 连接列表"
   ]
  },
  {
   "cell_type": "code",
   "execution_count": 24,
   "id": "ce209ad9",
   "metadata": {},
   "outputs": [
    {
     "name": "stdout",
     "output_type": "stream",
     "text": [
      "inputWords: ['runoob', 'like', 'I']\n",
      "output: runoob like I\n"
     ]
    }
   ],
   "source": [
    "input = 'I like runoob'\n",
    "\n",
    "# 通过空格将字符串分隔符，把各个单词分隔为列表\n",
    "inputWords = input.split(\" \")\n",
    "\n",
    "# 翻转字符串\n",
    "# 假设列表 list = [1,2,3,4],  \n",
    "# list[0]=1, list[1]=2 ，而 -1 表示最后一个元素 list[-1]=4 ( 与 list[3]=4 一样)\n",
    "# inputWords[-1::-1] 有三个参数\n",
    "# 第一个参数 -1 表示最后一个元素\n",
    "# 第二个参数为空，表示移动到列表末尾\n",
    "# 第三个参数为步长，-1 表示逆向\n",
    "inputWords=inputWords[-1::-1]\n",
    "\n",
    "# 重新组合字符串\n",
    "output = ' '.join(inputWords)\n",
    "print(\"inputWords:\",inputWords)\n",
    "print(\"output:\",output)"
   ]
  },
  {
   "cell_type": "markdown",
   "id": "c15ea6d8",
   "metadata": {},
   "source": [
    "### Tuple（元组）"
   ]
  },
  {
   "cell_type": "code",
   "execution_count": 26,
   "id": "ddfa6c81",
   "metadata": {},
   "outputs": [
    {
     "name": "stdout",
     "output_type": "stream",
     "text": [
      "('abcd', 786, 2.23, 'runoob', 70.2)\n",
      "abcd\n",
      "(786, 2.23)\n",
      "(2.23, 'runoob', 70.2)\n",
      "(123, 'runoob', 123, 'runoob')\n",
      "('abcd', 786, 2.23, 'runoob', 70.2, 123, 'runoob')\n"
     ]
    }
   ],
   "source": [
    "tuple = ( 'abcd', 786 , 2.23, 'runoob', 70.2  )\n",
    "tinytuple = (123, 'runoob')\n",
    "tup1 = ()    # 空元组\n",
    "tup2 = (20,) # 一个元素，需要在元素后添加逗号\n",
    "\n",
    "print (tuple)             # 输出完整元组\n",
    "print (tuple[0])          # 输出元组的第一个元素\n",
    "print (tuple[1:3])        # 输出从第二个元素开始到第三个元素\n",
    "print (tuple[2:])         # 输出从第三个元素开始的所有元素\n",
    "print (tinytuple * 2)     # 输出两次元组\n",
    "print (tuple + tinytuple) # 连接元组"
   ]
  },
  {
   "cell_type": "markdown",
   "id": "db2e56a8",
   "metadata": {},
   "source": [
    "### Set（集合）"
   ]
  },
  {
   "cell_type": "code",
   "execution_count": 27,
   "id": "05c211f0",
   "metadata": {},
   "outputs": [
    {
     "name": "stdout",
     "output_type": "stream",
     "text": [
      "{'Runoob', 'Facebook', 'Taobao', 'Zhihu', 'Google', 'Baidu'}\n",
      "Runoob 在集合中\n",
      "{'a', 'r', 'c', 'd', 'b'}\n",
      "{'d', 'r', 'b'}\n",
      "{'a', 'r', 'c', 'z', 'd', 'b', 'l', 'm'}\n",
      "{'c', 'a'}\n",
      "{'z', 'l', 'r', 'd', 'm', 'b'}\n"
     ]
    }
   ],
   "source": [
    "sites = {'Google', 'Taobao', 'Runoob', 'Facebook', 'Zhihu', 'Baidu'}\n",
    "\n",
    "print(sites)   # 输出集合，重复的元素被自动去掉\n",
    "\n",
    "# 成员测试\n",
    "if 'Runoob' in sites :\n",
    "    print('Runoob 在集合中')\n",
    "else :\n",
    "    print('Runoob 不在集合中')\n",
    "\n",
    "\n",
    "# set可以进行集合运算\n",
    "a = set('abracadabra')\n",
    "b = set('alacazam')\n",
    "\n",
    "print(a)\n",
    "\n",
    "print(a - b)     # a 和 b 的差集\n",
    "\n",
    "print(a | b)     # a 和 b 的并集\n",
    "\n",
    "print(a & b)     # a 和 b 的交集\n",
    "\n",
    "print(a ^ b)     # a 和 b 中不同时存在的元素"
   ]
  },
  {
   "cell_type": "markdown",
   "id": "a086f0ec",
   "metadata": {},
   "source": [
    "### Dictionary（字典）"
   ]
  },
  {
   "cell_type": "code",
   "execution_count": 28,
   "id": "99f4c162",
   "metadata": {},
   "outputs": [
    {
     "name": "stdout",
     "output_type": "stream",
     "text": [
      "1 - 菜鸟教程\n",
      "2 - 菜鸟工具\n",
      "{'name': 'runoob', 'code': 1, 'site': 'www.runoob.com'}\n",
      "dict_keys(['name', 'code', 'site'])\n",
      "dict_values(['runoob', 1, 'www.runoob.com'])\n"
     ]
    },
    {
     "ename": "TypeError",
     "evalue": "'dict' object is not callable",
     "output_type": "error",
     "traceback": [
      "\u001b[0;31m---------------------------------------------------------------------------\u001b[0m",
      "\u001b[0;31mTypeError\u001b[0m                                 Traceback (most recent call last)",
      "Input \u001b[0;32mIn [28]\u001b[0m, in \u001b[0;36m<cell line: 14>\u001b[0;34m()\u001b[0m\n\u001b[1;32m     11\u001b[0m \u001b[38;5;28mprint\u001b[39m (tinydict\u001b[38;5;241m.\u001b[39mkeys())   \u001b[38;5;66;03m# 输出所有键\u001b[39;00m\n\u001b[1;32m     12\u001b[0m \u001b[38;5;28mprint\u001b[39m (tinydict\u001b[38;5;241m.\u001b[39mvalues()) \u001b[38;5;66;03m# 输出所有值\u001b[39;00m\n\u001b[0;32m---> 14\u001b[0m \u001b[38;5;28mprint\u001b[39m(\u001b[38;5;28;43mdict\u001b[39;49m\u001b[43m(\u001b[49m\u001b[43m[\u001b[49m\u001b[43m(\u001b[49m\u001b[38;5;124;43m'\u001b[39;49m\u001b[38;5;124;43mRunoob\u001b[39;49m\u001b[38;5;124;43m'\u001b[39;49m\u001b[43m,\u001b[49m\u001b[43m \u001b[49m\u001b[38;5;241;43m1\u001b[39;49m\u001b[43m)\u001b[49m\u001b[43m,\u001b[49m\u001b[43m \u001b[49m\u001b[43m(\u001b[49m\u001b[38;5;124;43m'\u001b[39;49m\u001b[38;5;124;43mGoogle\u001b[39;49m\u001b[38;5;124;43m'\u001b[39;49m\u001b[43m,\u001b[49m\u001b[43m \u001b[49m\u001b[38;5;241;43m2\u001b[39;49m\u001b[43m)\u001b[49m\u001b[43m,\u001b[49m\u001b[43m \u001b[49m\u001b[43m(\u001b[49m\u001b[38;5;124;43m'\u001b[39;49m\u001b[38;5;124;43mTaobao\u001b[39;49m\u001b[38;5;124;43m'\u001b[39;49m\u001b[43m,\u001b[49m\u001b[43m \u001b[49m\u001b[38;5;241;43m3\u001b[39;49m\u001b[43m)\u001b[49m\u001b[43m]\u001b[49m\u001b[43m)\u001b[49m)\n\u001b[1;32m     16\u001b[0m \u001b[38;5;28mprint\u001b[39m({x: x\u001b[38;5;241m*\u001b[39m\u001b[38;5;241m*\u001b[39m\u001b[38;5;241m2\u001b[39m \u001b[38;5;28;01mfor\u001b[39;00m x \u001b[38;5;129;01min\u001b[39;00m (\u001b[38;5;241m2\u001b[39m, \u001b[38;5;241m4\u001b[39m, \u001b[38;5;241m6\u001b[39m)})\n\u001b[1;32m     18\u001b[0m \u001b[38;5;28mprint\u001b[39m(\u001b[38;5;28mdict\u001b[39m(Runoob\u001b[38;5;241m=\u001b[39m\u001b[38;5;241m1\u001b[39m, Google\u001b[38;5;241m=\u001b[39m\u001b[38;5;241m2\u001b[39m, Taobao\u001b[38;5;241m=\u001b[39m\u001b[38;5;241m3\u001b[39m))\n",
      "\u001b[0;31mTypeError\u001b[0m: 'dict' object is not callable"
     ]
    }
   ],
   "source": [
    "dict = {}\n",
    "dict['one'] = \"1 - 菜鸟教程\"\n",
    "dict[2]     = \"2 - 菜鸟工具\"\n",
    "\n",
    "tinydict = {'name': 'runoob','code':1, 'site': 'www.runoob.com'}\n",
    "\n",
    "\n",
    "print (dict['one'])       # 输出键为 'one' 的值\n",
    "print (dict[2])           # 输出键为 2 的值\n",
    "print (tinydict)          # 输出完整的字典\n",
    "print (tinydict.keys())   # 输出所有键\n",
    "print (tinydict.values()) # 输出所有值\n",
    "\n",
    "print({x: x**2 for x in (2, 4, 6)})\n"
   ]
  },
  {
   "cell_type": "markdown",
   "id": "aa4ff3c3",
   "metadata": {},
   "source": [
    "### Python数据类型转换"
   ]
  },
  {
   "cell_type": "markdown",
   "id": "3c6e907e",
   "metadata": {},
   "source": [
    "函数\t\t\t\t\t\t    描述  \n",
    "int(x [,base])\t\t\t\t将x转换为一个整数  \n",
    "float(x)\t\t\t\t\t将x转换到一个浮点数  \n",
    "complex(real [,imag])\t\t创建一个复数  \n",
    "str(x)\t\t\t\t\t\t将对象 x 转换为字符串  \n",
    "repr(x)                     将对象 x 转换为表达式字符串  \n",
    "eval(str)\t\t\t\t\t用来计算在字符串中的有效Python表达式,并返回一个对象  \n",
    "tuple(s)\t\t\t\t\t将序列 s 转换为一个元组  \n",
    "list(s)                     将序列 s 转换为一个列表  \n",
    "set(s)\t\t\t\t\t\t转换为可变集合  \n",
    "dict(d)                     创建一个字典。d 必须是一个 (key, value)元组序列。  \n",
    "frozenset(s)\t\t\t\t转换为不可变集合  \n",
    "chr(x)\t\t\t\t\t\t将一个整数转换为一个字符  \n",
    "ord(x)\t\t\t\t\t\t将一个字符转换为它的整数值  \n",
    "hex(x)\t\t\t\t\t\t将一个整数转换为一个十六进制字符串  \n",
    "oct(x)\t\t\t\t\t\t将一个整数转换为一个八进制字符串  "
   ]
  },
  {
   "cell_type": "markdown",
   "id": "e323b2fb",
   "metadata": {},
   "source": [
    "## Python 推导式   \n",
    "[x for range in set if not condition ]  \n",
    "列表(list)推导式  \n",
    "字典(dict)推导式  \n",
    "集合(set)推导式  \n",
    "元组(tuple)推导式 \n",
    "```\n",
    "[表达式 for 变量 in 列表] \n",
    "[out_exp_res for out_exp in input_list]\n",
    "\n",
    "或者 \n",
    "\n",
    "[表达式 for 变量 in 列表 if 条件]\n",
    "[out_exp_res for out_exp in input_list if condition]\n",
    "```"
   ]
  },
  {
   "cell_type": "code",
   "execution_count": 50,
   "id": "a95bb30e",
   "metadata": {},
   "outputs": [
    {
     "name": "stdout",
     "output_type": "stream",
     "text": [
      "列表推导式 ['ALICE', 'JERRY', 'WENDY', 'SMITH']\n",
      "字典推导式 {'Google': 6, 'Runoob': 6, 'Taobao': 6}\n",
      "集合推导式 {1, 4, 9}\n"
     ]
    }
   ],
   "source": [
    "# 列表推导式\n",
    "names = ['Bob','Tom','alice','Jerry','Wendy','Smith']\n",
    "new_names = [name.upper()for name in names if len(name)>3]\n",
    "print(\"列表推导式\",new_names)\n",
    "\n",
    "\n",
    "# 字典推导式\n",
    "listdemo = ['Google','Runoob', 'Taobao']\n",
    "newdict = {key:len(key) for key in listdemo}\n",
    "print(\"字典推导式\",newdict)\n",
    "\n",
    "# 集合推导式\n",
    "setnew = {i**2 for i in (1,2,3)}\n",
    "print(\"集合推导式\",setnew)\n",
    "\n",
    "# 元组推导式 -- 的数据转换 会报错\n",
    "# a = (x for x in range(1,10))\n",
    "# print(\"元组推导式\",tuple(a))"
   ]
  },
  {
   "cell_type": "code",
   "execution_count": 44,
   "id": "f75e69d9",
   "metadata": {},
   "outputs": [
    {
     "data": {
      "text/plain": [
       "generator"
      ]
     },
     "execution_count": 44,
     "metadata": {},
     "output_type": "execute_result"
    }
   ],
   "source": [
    "type(a)"
   ]
  },
  {
   "cell_type": "markdown",
   "id": "313fe5a8",
   "metadata": {},
   "source": [
    "## 字符串2"
   ]
  },
  {
   "cell_type": "code",
   "execution_count": 68,
   "id": "56de9243",
   "metadata": {},
   "outputs": [
    {
     "name": "stdout",
     "output_type": "stream",
     "text": [
      "\\n\n",
      "\\n\n",
      "我是mary, 我今年18岁。\n",
      "你好，我是张晓宇的同学王晓莲。\n",
      "我是mary, 我今年18岁。\n",
      "我是mary, 我今年18岁。\n",
      "我是mary, 我今年18岁。\n",
      "我是mary, 我今年18岁。\n",
      "酒精的度数是47.00%\n",
      "Hello Runoob\n",
      "Runoob: www.runoob.com\n"
     ]
    }
   ],
   "source": [
    "# 使用r或者R，来表示原始字符\n",
    "print (r'\\n')\n",
    "print (R'\\n')\n",
    "\n",
    "\n",
    "# 使用% 格式化字符。 常用的 %s, %d, \n",
    "print(\"我是%s, 我今年%d岁。\" % (\"mary\", 18))\n",
    "print(\"你好，我是%s的同学%s。\" % (\"张晓宇\",\"王晓莲\"))\n",
    "\n",
    "# 使用format\n",
    "s = \"我是{}, 我今年{}岁。\".format('mary', 18)#需按顺序传入\n",
    "print(s)# 我是mary, 我今年18岁。\n",
    "s = \"我是{1}, 我今年{0}岁。\".format(18, 'mary')#需按下标传入\n",
    "print(s)# 我是mary, 我今年18岁。\n",
    "s = \"我是{name}, 我今年{old}岁。\".format(old=18, name='mary')#需键值对传入\n",
    "print(s)# 我是mary, 我今年18岁。\n",
    " \n",
    "s = \"我是{name}, 我今年{old}岁。\".format(**{'old': 18, 'name': 'mary'})#需字典传入\n",
    "print(s)# 我是mary, 我今年18岁。\n",
    " \n",
    "s = \"酒精的度数是{:.2f}%\".format(47)\n",
    "print(s)#酒精的度数是47.00%\n",
    "\n",
    "\n",
    "# 使用f\n",
    "name = 'Runoob'\n",
    "print( f'Hello {name}')  # 替换变量\n",
    "\n",
    "w = {'name': 'Runoob', 'url': 'www.runoob.com'}\n",
    "print(f'{w[\"name\"]}: {w[\"url\"]}') # 使用字典\n"
   ]
  },
  {
   "cell_type": "code",
   "execution_count": null,
   "id": "2e2bd58f",
   "metadata": {},
   "outputs": [],
   "source": []
  }
 ],
 "metadata": {
  "kernelspec": {
   "display_name": "Python 3 (ipykernel)",
   "language": "python",
   "name": "python3"
  },
  "language_info": {
   "codemirror_mode": {
    "name": "ipython",
    "version": 3
   },
   "file_extension": ".py",
   "mimetype": "text/x-python",
   "name": "python",
   "nbconvert_exporter": "python",
   "pygments_lexer": "ipython3",
   "version": "3.9.12"
  },
  "toc": {
   "base_numbering": 1,
   "nav_menu": {},
   "number_sections": true,
   "sideBar": true,
   "skip_h1_title": false,
   "title_cell": "Table of Contents",
   "title_sidebar": "Contents",
   "toc_cell": false,
   "toc_position": {},
   "toc_section_display": true,
   "toc_window_display": true
  },
  "varInspector": {
   "cols": {
    "lenName": 16,
    "lenType": 16,
    "lenVar": 40
   },
   "kernels_config": {
    "python": {
     "delete_cmd_postfix": "",
     "delete_cmd_prefix": "del ",
     "library": "var_list.py",
     "varRefreshCmd": "print(var_dic_list())"
    },
    "r": {
     "delete_cmd_postfix": ") ",
     "delete_cmd_prefix": "rm(",
     "library": "var_list.r",
     "varRefreshCmd": "cat(var_dic_list()) "
    }
   },
   "types_to_exclude": [
    "module",
    "function",
    "builtin_function_or_method",
    "instance",
    "_Feature"
   ],
   "window_display": true
  }
 },
 "nbformat": 4,
 "nbformat_minor": 5
}
