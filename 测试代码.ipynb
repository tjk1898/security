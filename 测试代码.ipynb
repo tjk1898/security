{
 "cells": [
  {
   "cell_type": "markdown",
   "id": "f305cf8d",
   "metadata": {},
   "source": [
    "# 第一部分"
   ]
  },
  {
   "cell_type": "code",
   "execution_count": 1,
   "id": "d40fc791",
   "metadata": {
    "scrolled": true
   },
   "outputs": [
    {
     "name": "stderr",
     "output_type": "stream",
     "text": [
      "/home/lighthouse/miniconda3/lib/python3.9/site-packages/akshare/futures/futures_roll_yield.py:36: UserWarning: 20180618非交易日\n",
      "  warnings.warn(\"%s非交易日\" % date.strftime(\"%Y%m%d\"))\n",
      "/home/lighthouse/miniconda3/lib/python3.9/site-packages/akshare/futures/futures_roll_yield.py:137: FutureWarning: The frame.append method is deprecated and will be removed from pandas in a future version. Use pandas.concat instead.\n",
      "  df_l = df_l.append(\n",
      "/home/lighthouse/miniconda3/lib/python3.9/site-packages/akshare/futures/futures_roll_yield.py:137: FutureWarning: The frame.append method is deprecated and will be removed from pandas in a future version. Use pandas.concat instead.\n",
      "  df_l = df_l.append(\n",
      "/home/lighthouse/miniconda3/lib/python3.9/site-packages/akshare/futures/futures_roll_yield.py:137: FutureWarning: The frame.append method is deprecated and will be removed from pandas in a future version. Use pandas.concat instead.\n",
      "  df_l = df_l.append(\n",
      "/home/lighthouse/miniconda3/lib/python3.9/site-packages/akshare/futures/futures_roll_yield.py:137: FutureWarning: The frame.append method is deprecated and will be removed from pandas in a future version. Use pandas.concat instead.\n",
      "  df_l = df_l.append(\n",
      "/home/lighthouse/miniconda3/lib/python3.9/site-packages/akshare/futures/futures_roll_yield.py:36: UserWarning: 20180623非交易日\n",
      "  warnings.warn(\"%s非交易日\" % date.strftime(\"%Y%m%d\"))\n",
      "/home/lighthouse/miniconda3/lib/python3.9/site-packages/akshare/futures/futures_roll_yield.py:36: UserWarning: 20180624非交易日\n",
      "  warnings.warn(\"%s非交易日\" % date.strftime(\"%Y%m%d\"))\n",
      "/home/lighthouse/miniconda3/lib/python3.9/site-packages/akshare/futures/futures_roll_yield.py:137: FutureWarning: The frame.append method is deprecated and will be removed from pandas in a future version. Use pandas.concat instead.\n",
      "  df_l = df_l.append(\n",
      "/home/lighthouse/miniconda3/lib/python3.9/site-packages/akshare/futures/futures_roll_yield.py:137: FutureWarning: The frame.append method is deprecated and will be removed from pandas in a future version. Use pandas.concat instead.\n",
      "  df_l = df_l.append(\n",
      "/home/lighthouse/miniconda3/lib/python3.9/site-packages/akshare/futures/futures_roll_yield.py:137: FutureWarning: The frame.append method is deprecated and will be removed from pandas in a future version. Use pandas.concat instead.\n",
      "  df_l = df_l.append(\n",
      "/home/lighthouse/miniconda3/lib/python3.9/site-packages/akshare/futures/futures_roll_yield.py:137: FutureWarning: The frame.append method is deprecated and will be removed from pandas in a future version. Use pandas.concat instead.\n",
      "  df_l = df_l.append(\n",
      "/home/lighthouse/miniconda3/lib/python3.9/site-packages/akshare/futures/futures_roll_yield.py:137: FutureWarning: The frame.append method is deprecated and will be removed from pandas in a future version. Use pandas.concat instead.\n",
      "  df_l = df_l.append(\n",
      "/home/lighthouse/miniconda3/lib/python3.9/site-packages/akshare/futures/futures_roll_yield.py:36: UserWarning: 20180630非交易日\n",
      "  warnings.warn(\"%s非交易日\" % date.strftime(\"%Y%m%d\"))\n",
      "/home/lighthouse/miniconda3/lib/python3.9/site-packages/akshare/futures/futures_roll_yield.py:36: UserWarning: 20180701非交易日\n",
      "  warnings.warn(\"%s非交易日\" % date.strftime(\"%Y%m%d\"))\n",
      "/home/lighthouse/miniconda3/lib/python3.9/site-packages/akshare/futures/futures_roll_yield.py:137: FutureWarning: The frame.append method is deprecated and will be removed from pandas in a future version. Use pandas.concat instead.\n",
      "  df_l = df_l.append(\n",
      "/home/lighthouse/miniconda3/lib/python3.9/site-packages/akshare/futures/futures_roll_yield.py:137: FutureWarning: The frame.append method is deprecated and will be removed from pandas in a future version. Use pandas.concat instead.\n",
      "  df_l = df_l.append(\n",
      "/home/lighthouse/miniconda3/lib/python3.9/site-packages/akshare/futures/futures_roll_yield.py:137: FutureWarning: The frame.append method is deprecated and will be removed from pandas in a future version. Use pandas.concat instead.\n",
      "  df_l = df_l.append(\n",
      "/home/lighthouse/miniconda3/lib/python3.9/site-packages/akshare/futures/futures_roll_yield.py:137: FutureWarning: The frame.append method is deprecated and will be removed from pandas in a future version. Use pandas.concat instead.\n",
      "  df_l = df_l.append(\n",
      "/home/lighthouse/miniconda3/lib/python3.9/site-packages/akshare/futures/futures_roll_yield.py:137: FutureWarning: The frame.append method is deprecated and will be removed from pandas in a future version. Use pandas.concat instead.\n",
      "  df_l = df_l.append(\n",
      "/home/lighthouse/miniconda3/lib/python3.9/site-packages/akshare/futures/futures_roll_yield.py:36: UserWarning: 20180707非交易日\n",
      "  warnings.warn(\"%s非交易日\" % date.strftime(\"%Y%m%d\"))\n",
      "/home/lighthouse/miniconda3/lib/python3.9/site-packages/akshare/futures/futures_roll_yield.py:36: UserWarning: 20180708非交易日\n",
      "  warnings.warn(\"%s非交易日\" % date.strftime(\"%Y%m%d\"))\n",
      "/home/lighthouse/miniconda3/lib/python3.9/site-packages/akshare/futures/futures_roll_yield.py:137: FutureWarning: The frame.append method is deprecated and will be removed from pandas in a future version. Use pandas.concat instead.\n",
      "  df_l = df_l.append(\n",
      "/home/lighthouse/miniconda3/lib/python3.9/site-packages/akshare/futures/futures_roll_yield.py:137: FutureWarning: The frame.append method is deprecated and will be removed from pandas in a future version. Use pandas.concat instead.\n",
      "  df_l = df_l.append(\n",
      "/home/lighthouse/miniconda3/lib/python3.9/site-packages/akshare/futures/futures_roll_yield.py:137: FutureWarning: The frame.append method is deprecated and will be removed from pandas in a future version. Use pandas.concat instead.\n",
      "  df_l = df_l.append(\n",
      "/home/lighthouse/miniconda3/lib/python3.9/site-packages/akshare/futures/futures_roll_yield.py:137: FutureWarning: The frame.append method is deprecated and will be removed from pandas in a future version. Use pandas.concat instead.\n",
      "  df_l = df_l.append(\n",
      "/home/lighthouse/miniconda3/lib/python3.9/site-packages/akshare/futures/futures_roll_yield.py:137: FutureWarning: The frame.append method is deprecated and will be removed from pandas in a future version. Use pandas.concat instead.\n",
      "  df_l = df_l.append(\n",
      "/home/lighthouse/miniconda3/lib/python3.9/site-packages/akshare/futures/futures_roll_yield.py:36: UserWarning: 20180714非交易日\n",
      "  warnings.warn(\"%s非交易日\" % date.strftime(\"%Y%m%d\"))\n",
      "/home/lighthouse/miniconda3/lib/python3.9/site-packages/akshare/futures/futures_roll_yield.py:36: UserWarning: 20180715非交易日\n",
      "  warnings.warn(\"%s非交易日\" % date.strftime(\"%Y%m%d\"))\n",
      "/home/lighthouse/miniconda3/lib/python3.9/site-packages/akshare/futures/futures_roll_yield.py:137: FutureWarning: The frame.append method is deprecated and will be removed from pandas in a future version. Use pandas.concat instead.\n",
      "  df_l = df_l.append(\n",
      "/home/lighthouse/miniconda3/lib/python3.9/site-packages/akshare/futures/futures_roll_yield.py:137: FutureWarning: The frame.append method is deprecated and will be removed from pandas in a future version. Use pandas.concat instead.\n",
      "  df_l = df_l.append(\n",
      "/home/lighthouse/miniconda3/lib/python3.9/site-packages/akshare/futures/futures_roll_yield.py:137: FutureWarning: The frame.append method is deprecated and will be removed from pandas in a future version. Use pandas.concat instead.\n",
      "  df_l = df_l.append(\n"
     ]
    }
   ],
   "source": [
    "import akshare as ak\n",
    "get_roll_yield_bar_df = ak.get_roll_yield_bar(type_method=\"date\", var=\"RB\", start_day=\"20180618\", end_day=\"20180718\")"
   ]
  },
  {
   "cell_type": "code",
   "execution_count": 24,
   "id": "4167df35",
   "metadata": {},
   "outputs": [],
   "source": [
    "values = get_roll_yield_bar_df['roll_yield'].values"
   ]
  },
  {
   "cell_type": "code",
   "execution_count": 25,
   "id": "2b2c6985",
   "metadata": {},
   "outputs": [],
   "source": [
    "import talib as tb\n"
   ]
  },
  {
   "cell_type": "code",
   "execution_count": 29,
   "id": "bb68847e",
   "metadata": {},
   "outputs": [],
   "source": [
    "ma5 = tb.MA(values,timeperiod=5)\n",
    "ma10 = tb.MA(values,timeperiod=10)"
   ]
  },
  {
   "cell_type": "code",
   "execution_count": 30,
   "id": "23753fb8",
   "metadata": {
    "scrolled": true
   },
   "outputs": [
    {
     "name": "stdout",
     "output_type": "stream",
     "text": [
      "[       nan        nan        nan        nan 0.19043926 0.19304429\n",
      " 0.19735322 0.20303259 0.20608263 0.21207677 0.21705356 0.21889076\n",
      " 0.22598793 0.23706138 0.24275621 0.24208304 0.23964406 0.23276767\n",
      " 0.21457228 0.20752882 0.20831604 0.21129022] [       nan        nan        nan        nan        nan        nan\n",
      "        nan        nan        nan 0.20125801 0.20504893 0.20812199\n",
      " 0.21451026 0.221572   0.22741649 0.2295683  0.22926741 0.2293778\n",
      " 0.22581683 0.22514251 0.22519954 0.22546714]\n"
     ]
    }
   ],
   "source": [
    "print(ma5,ma10)"
   ]
  },
  {
   "cell_type": "code",
   "execution_count": 1,
   "id": "40efca70",
   "metadata": {},
   "outputs": [],
   "source": [
    "import numpy as np\n",
    "\n",
    "import pandas as pd"
   ]
  },
  {
   "cell_type": "code",
   "execution_count": 2,
   "id": "8382ab61",
   "metadata": {},
   "outputs": [],
   "source": [
    "df = pd.DataFrame({\"id\":[1,2,3,4,5,6],\n",
    "\"date\":pd.date_range('20130102', periods=6),\n",
    "\"city\":['Beijing ', 'SH', ' guangzhou ', 'Shenzhen', 'shanghai', 'BEIJING '],\n",
    "\"age\":[23,44,54,32,34,32],\n",
    "\"category\":['100-A','100-B','110-A','110-C','210-A','130-F'],\n",
    "\"price\":[1200,np.nan,2133,5433,np.nan,4432]},\n",
    "columns =['id','date','city','category','age','price'])"
   ]
  },
  {
   "cell_type": "code",
   "execution_count": 3,
   "id": "76da6995",
   "metadata": {},
   "outputs": [
    {
     "data": {
      "text/html": [
       "<div>\n",
       "<style scoped>\n",
       "    .dataframe tbody tr th:only-of-type {\n",
       "        vertical-align: middle;\n",
       "    }\n",
       "\n",
       "    .dataframe tbody tr th {\n",
       "        vertical-align: top;\n",
       "    }\n",
       "\n",
       "    .dataframe thead th {\n",
       "        text-align: right;\n",
       "    }\n",
       "</style>\n",
       "<table border=\"1\" class=\"dataframe\">\n",
       "  <thead>\n",
       "    <tr style=\"text-align: right;\">\n",
       "      <th></th>\n",
       "      <th>id</th>\n",
       "      <th>date</th>\n",
       "      <th>city</th>\n",
       "      <th>category</th>\n",
       "      <th>age</th>\n",
       "      <th>price</th>\n",
       "    </tr>\n",
       "  </thead>\n",
       "  <tbody>\n",
       "    <tr>\n",
       "      <th>0</th>\n",
       "      <td>1</td>\n",
       "      <td>2013-01-02</td>\n",
       "      <td>Beijing</td>\n",
       "      <td>100-A</td>\n",
       "      <td>23</td>\n",
       "      <td>1200.0</td>\n",
       "    </tr>\n",
       "    <tr>\n",
       "      <th>1</th>\n",
       "      <td>2</td>\n",
       "      <td>2013-01-03</td>\n",
       "      <td>SH</td>\n",
       "      <td>100-B</td>\n",
       "      <td>44</td>\n",
       "      <td>NaN</td>\n",
       "    </tr>\n",
       "    <tr>\n",
       "      <th>2</th>\n",
       "      <td>3</td>\n",
       "      <td>2013-01-04</td>\n",
       "      <td>guangzhou</td>\n",
       "      <td>110-A</td>\n",
       "      <td>54</td>\n",
       "      <td>2133.0</td>\n",
       "    </tr>\n",
       "    <tr>\n",
       "      <th>3</th>\n",
       "      <td>4</td>\n",
       "      <td>2013-01-05</td>\n",
       "      <td>Shenzhen</td>\n",
       "      <td>110-C</td>\n",
       "      <td>32</td>\n",
       "      <td>5433.0</td>\n",
       "    </tr>\n",
       "    <tr>\n",
       "      <th>4</th>\n",
       "      <td>5</td>\n",
       "      <td>2013-01-06</td>\n",
       "      <td>shanghai</td>\n",
       "      <td>210-A</td>\n",
       "      <td>34</td>\n",
       "      <td>NaN</td>\n",
       "    </tr>\n",
       "    <tr>\n",
       "      <th>5</th>\n",
       "      <td>6</td>\n",
       "      <td>2013-01-07</td>\n",
       "      <td>BEIJING</td>\n",
       "      <td>130-F</td>\n",
       "      <td>32</td>\n",
       "      <td>4432.0</td>\n",
       "    </tr>\n",
       "  </tbody>\n",
       "</table>\n",
       "</div>"
      ],
      "text/plain": [
       "   id       date         city category  age   price\n",
       "0   1 2013-01-02     Beijing     100-A   23  1200.0\n",
       "1   2 2013-01-03           SH    100-B   44     NaN\n",
       "2   3 2013-01-04   guangzhou     110-A   54  2133.0\n",
       "3   4 2013-01-05     Shenzhen    110-C   32  5433.0\n",
       "4   5 2013-01-06     shanghai    210-A   34     NaN\n",
       "5   6 2013-01-07     BEIJING     130-F   32  4432.0"
      ]
     },
     "execution_count": 3,
     "metadata": {},
     "output_type": "execute_result"
    }
   ],
   "source": [
    "df"
   ]
  },
  {
   "cell_type": "code",
   "execution_count": 7,
   "id": "c4129acf",
   "metadata": {
    "scrolled": true
   },
   "outputs": [
    {
     "data": {
      "text/plain": [
       "id                            4\n",
       "date        2013-01-05 00:00:00\n",
       "city                   Shenzhen\n",
       "category                  110-C\n",
       "age                          32\n",
       "price                    5433.0\n",
       "Name: 3, dtype: object"
      ]
     },
     "execution_count": 7,
     "metadata": {},
     "output_type": "execute_result"
    }
   ],
   "source": [
    "df.iloc[3]"
   ]
  },
  {
   "cell_type": "code",
   "execution_count": 10,
   "id": "b25b12db",
   "metadata": {
    "scrolled": true
   },
   "outputs": [
    {
     "data": {
      "text/html": [
       "<div>\n",
       "<style scoped>\n",
       "    .dataframe tbody tr th:only-of-type {\n",
       "        vertical-align: middle;\n",
       "    }\n",
       "\n",
       "    .dataframe tbody tr th {\n",
       "        vertical-align: top;\n",
       "    }\n",
       "\n",
       "    .dataframe thead th {\n",
       "        text-align: right;\n",
       "    }\n",
       "</style>\n",
       "<table border=\"1\" class=\"dataframe\">\n",
       "  <thead>\n",
       "    <tr style=\"text-align: right;\">\n",
       "      <th></th>\n",
       "      <th>category</th>\n",
       "    </tr>\n",
       "  </thead>\n",
       "  <tbody>\n",
       "    <tr>\n",
       "      <th>0</th>\n",
       "      <td>100</td>\n",
       "    </tr>\n",
       "    <tr>\n",
       "      <th>1</th>\n",
       "      <td>100</td>\n",
       "    </tr>\n",
       "    <tr>\n",
       "      <th>2</th>\n",
       "      <td>110</td>\n",
       "    </tr>\n",
       "    <tr>\n",
       "      <th>3</th>\n",
       "      <td>110</td>\n",
       "    </tr>\n",
       "    <tr>\n",
       "      <th>4</th>\n",
       "      <td>210</td>\n",
       "    </tr>\n",
       "    <tr>\n",
       "      <th>5</th>\n",
       "      <td>130</td>\n",
       "    </tr>\n",
       "  </tbody>\n",
       "</table>\n",
       "</div>"
      ],
      "text/plain": [
       "  category\n",
       "0      100\n",
       "1      100\n",
       "2      110\n",
       "3      110\n",
       "4      210\n",
       "5      130"
      ]
     },
     "execution_count": 10,
     "metadata": {},
     "output_type": "execute_result"
    }
   ],
   "source": [
    "pd.DataFrame(df['category'].str[:3])"
   ]
  },
  {
   "cell_type": "code",
   "execution_count": 14,
   "id": "613010c5",
   "metadata": {},
   "outputs": [
    {
     "ename": "AttributeError",
     "evalue": "'DataFrame' object has no attribute 'sort'",
     "output_type": "error",
     "traceback": [
      "\u001b[0;31m---------------------------------------------------------------------------\u001b[0m",
      "\u001b[0;31mAttributeError\u001b[0m                            Traceback (most recent call last)",
      "Input \u001b[0;32mIn [14]\u001b[0m, in \u001b[0;36m<cell line: 1>\u001b[0;34m()\u001b[0m\n\u001b[0;32m----> 1\u001b[0m \u001b[43mdf\u001b[49m\u001b[38;5;241;43m.\u001b[39;49m\u001b[43mloc\u001b[49m\u001b[43m[\u001b[49m\u001b[43m(\u001b[49m\u001b[43mdf\u001b[49m\u001b[43m[\u001b[49m\u001b[38;5;124;43m'\u001b[39;49m\u001b[38;5;124;43mcity\u001b[39;49m\u001b[38;5;124;43m'\u001b[39;49m\u001b[43m]\u001b[49m\u001b[43m \u001b[49m\u001b[38;5;241;43m!=\u001b[39;49m\u001b[43m \u001b[49m\u001b[38;5;124;43m'\u001b[39;49m\u001b[38;5;124;43mbeijing\u001b[39;49m\u001b[38;5;124;43m'\u001b[39;49m\u001b[43m)\u001b[49m\u001b[43m,\u001b[49m\u001b[43m \u001b[49m\u001b[43m[\u001b[49m\u001b[38;5;124;43m'\u001b[39;49m\u001b[38;5;124;43mid\u001b[39;49m\u001b[38;5;124;43m'\u001b[39;49m\u001b[43m,\u001b[49m\u001b[38;5;124;43m'\u001b[39;49m\u001b[38;5;124;43mcity\u001b[39;49m\u001b[38;5;124;43m'\u001b[39;49m\u001b[43m,\u001b[49m\u001b[38;5;124;43m'\u001b[39;49m\u001b[38;5;124;43mage\u001b[39;49m\u001b[38;5;124;43m'\u001b[39;49m\u001b[43m,\u001b[49m\u001b[38;5;124;43m'\u001b[39;49m\u001b[38;5;124;43mcategory\u001b[39;49m\u001b[38;5;124;43m'\u001b[39;49m\u001b[43m]\u001b[49m\u001b[43m]\u001b[49m\u001b[38;5;241;43m.\u001b[39;49m\u001b[43msort\u001b[49m([\u001b[38;5;124m'\u001b[39m\u001b[38;5;124mid\u001b[39m\u001b[38;5;124m'\u001b[39m])\n",
      "File \u001b[0;32m~/miniconda3/lib/python3.9/site-packages/pandas/core/generic.py:5575\u001b[0m, in \u001b[0;36mNDFrame.__getattr__\u001b[0;34m(self, name)\u001b[0m\n\u001b[1;32m   5568\u001b[0m \u001b[38;5;28;01mif\u001b[39;00m (\n\u001b[1;32m   5569\u001b[0m     name \u001b[38;5;129;01mnot\u001b[39;00m \u001b[38;5;129;01min\u001b[39;00m \u001b[38;5;28mself\u001b[39m\u001b[38;5;241m.\u001b[39m_internal_names_set\n\u001b[1;32m   5570\u001b[0m     \u001b[38;5;129;01mand\u001b[39;00m name \u001b[38;5;129;01mnot\u001b[39;00m \u001b[38;5;129;01min\u001b[39;00m \u001b[38;5;28mself\u001b[39m\u001b[38;5;241m.\u001b[39m_metadata\n\u001b[1;32m   5571\u001b[0m     \u001b[38;5;129;01mand\u001b[39;00m name \u001b[38;5;129;01mnot\u001b[39;00m \u001b[38;5;129;01min\u001b[39;00m \u001b[38;5;28mself\u001b[39m\u001b[38;5;241m.\u001b[39m_accessors\n\u001b[1;32m   5572\u001b[0m     \u001b[38;5;129;01mand\u001b[39;00m \u001b[38;5;28mself\u001b[39m\u001b[38;5;241m.\u001b[39m_info_axis\u001b[38;5;241m.\u001b[39m_can_hold_identifiers_and_holds_name(name)\n\u001b[1;32m   5573\u001b[0m ):\n\u001b[1;32m   5574\u001b[0m     \u001b[38;5;28;01mreturn\u001b[39;00m \u001b[38;5;28mself\u001b[39m[name]\n\u001b[0;32m-> 5575\u001b[0m \u001b[38;5;28;01mreturn\u001b[39;00m \u001b[38;5;28;43mobject\u001b[39;49m\u001b[38;5;241;43m.\u001b[39;49m\u001b[38;5;21;43m__getattribute__\u001b[39;49m\u001b[43m(\u001b[49m\u001b[38;5;28;43mself\u001b[39;49m\u001b[43m,\u001b[49m\u001b[43m \u001b[49m\u001b[43mname\u001b[49m\u001b[43m)\u001b[49m\n",
      "\u001b[0;31mAttributeError\u001b[0m: 'DataFrame' object has no attribute 'sort'"
     ]
    }
   ],
   "source": [
    "df.loc[(df['city'] != 'beijing'), ['id','city','age','category']].sort(['id'])"
   ]
  },
  {
   "cell_type": "code",
   "execution_count": 15,
   "id": "0ca20d3a",
   "metadata": {},
   "outputs": [
    {
     "data": {
      "text/html": [
       "<div>\n",
       "<style scoped>\n",
       "    .dataframe tbody tr th:only-of-type {\n",
       "        vertical-align: middle;\n",
       "    }\n",
       "\n",
       "    .dataframe tbody tr th {\n",
       "        vertical-align: top;\n",
       "    }\n",
       "\n",
       "    .dataframe thead th {\n",
       "        text-align: right;\n",
       "    }\n",
       "</style>\n",
       "<table border=\"1\" class=\"dataframe\">\n",
       "  <thead>\n",
       "    <tr style=\"text-align: right;\">\n",
       "      <th></th>\n",
       "      <th>id</th>\n",
       "      <th>date</th>\n",
       "      <th>city</th>\n",
       "      <th>category</th>\n",
       "      <th>age</th>\n",
       "      <th>price</th>\n",
       "    </tr>\n",
       "  </thead>\n",
       "  <tbody>\n",
       "    <tr>\n",
       "      <th>4</th>\n",
       "      <td>5</td>\n",
       "      <td>2013-01-06</td>\n",
       "      <td>shanghai</td>\n",
       "      <td>210-A</td>\n",
       "      <td>34</td>\n",
       "      <td>NaN</td>\n",
       "    </tr>\n",
       "  </tbody>\n",
       "</table>\n",
       "</div>"
      ],
      "text/plain": [
       "   id       date      city category  age  price\n",
       "4   5 2013-01-06  shanghai    210-A   34    NaN"
      ]
     },
     "execution_count": 15,
     "metadata": {},
     "output_type": "execute_result"
    }
   ],
   "source": [
    "df.query('city == [\"beijing\", \"shanghai\"]')"
   ]
  }
 ],
 "metadata": {
  "kernelspec": {
   "display_name": "Python 3 (ipykernel)",
   "language": "python",
   "name": "python3"
  },
  "language_info": {
   "codemirror_mode": {
    "name": "ipython",
    "version": 3
   },
   "file_extension": ".py",
   "mimetype": "text/x-python",
   "name": "python",
   "nbconvert_exporter": "python",
   "pygments_lexer": "ipython3",
   "version": "3.9.12"
  },
  "toc": {
   "base_numbering": 1,
   "nav_menu": {},
   "number_sections": true,
   "sideBar": true,
   "skip_h1_title": false,
   "title_cell": "Table of Contents",
   "title_sidebar": "Contents",
   "toc_cell": false,
   "toc_position": {},
   "toc_section_display": true,
   "toc_window_display": true
  },
  "varInspector": {
   "cols": {
    "lenName": 16,
    "lenType": 16,
    "lenVar": 40
   },
   "kernels_config": {
    "python": {
     "delete_cmd_postfix": "",
     "delete_cmd_prefix": "del ",
     "library": "var_list.py",
     "varRefreshCmd": "print(var_dic_list())"
    },
    "r": {
     "delete_cmd_postfix": ") ",
     "delete_cmd_prefix": "rm(",
     "library": "var_list.r",
     "varRefreshCmd": "cat(var_dic_list()) "
    }
   },
   "position": {
    "height": "723.852px",
    "left": "1503px",
    "right": "20px",
    "top": "112px",
    "width": "343px"
   },
   "types_to_exclude": [
    "module",
    "function",
    "builtin_function_or_method",
    "instance",
    "_Feature"
   ],
   "window_display": true
  }
 },
 "nbformat": 4,
 "nbformat_minor": 5
}
